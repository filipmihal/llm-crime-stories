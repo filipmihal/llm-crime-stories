{
 "cells": [
  {
   "cell_type": "code",
   "execution_count": 6,
   "metadata": {},
   "outputs": [
    {
     "name": "stderr",
     "output_type": "stream",
     "text": [
      "/home/jovyan/my-conda-envs/venv/lib/python3.10/site-packages/tqdm/auto.py:21: TqdmWarning: IProgress not found. Please update jupyter and ipywidgets. See https://ipywidgets.readthedocs.io/en/stable/user_install.html\n",
      "  from .autonotebook import tqdm as notebook_tqdm\n"
     ]
    },
    {
     "data": {
      "text/plain": [
       "True"
      ]
     },
     "execution_count": 6,
     "metadata": {},
     "output_type": "execute_result"
    }
   ],
   "source": [
    "from dotenv import load_dotenv\n",
    "from environment.game import Game\n",
    "from environment.generators.random_grid_generator import RandomGridGenerator\n",
    "from environment.grid_visualizer import GridVisualizer\n",
    "from environment.types import Direction\n",
    "\n",
    "load_dotenv(dotenv_path=\"./llm-dungeon-adventures/.env\")"
   ]
  },
  {
   "cell_type": "markdown",
   "metadata": {},
   "source": [
    "1. Create a room layout, theme"
   ]
  },
  {
   "cell_type": "code",
   "execution_count": 7,
   "metadata": {},
   "outputs": [],
   "source": [
    "number_of_rooms = 4\n",
    "theme = \"Library of Alexandria, 340 BC, crazy librarian\"\n",
    "\n",
    "rooms_layout, start = RandomGridGenerator(number_of_rooms, 42).generate()"
   ]
  },
  {
   "cell_type": "markdown",
   "metadata": {},
   "source": [
    "1. Create a story"
   ]
  },
  {
   "cell_type": "code",
   "execution_count": 8,
   "metadata": {},
   "outputs": [
    {
     "ename": "TypeError",
     "evalue": "LlmStoryGenerator.__init__() takes 1 positional argument but 2 were given",
     "output_type": "error",
     "traceback": [
      "\u001b[0;31m---------------------------------------------------------------------------\u001b[0m",
      "\u001b[0;31mTypeError\u001b[0m                                 Traceback (most recent call last)",
      "\u001b[1;32m/home/drobec/Documents/llm-dungeon-adventures/src/main.ipynb Cell 5\u001b[0m line \u001b[0;36m3\n\u001b[1;32m      <a href='vscode-notebook-cell:/home/drobec/Documents/llm-dungeon-adventures/src/main.ipynb#W2sZmlsZQ%3D%3D?line=0'>1</a>\u001b[0m \u001b[39mfrom\u001b[39;00m \u001b[39mllm\u001b[39;00m\u001b[39m.\u001b[39;00m\u001b[39mllm_story_generator\u001b[39;00m \u001b[39mimport\u001b[39;00m LlmStoryGenerator\n\u001b[0;32m----> <a href='vscode-notebook-cell:/home/drobec/Documents/llm-dungeon-adventures/src/main.ipynb#W2sZmlsZQ%3D%3D?line=2'>3</a>\u001b[0m story \u001b[39m=\u001b[39m LlmStoryGenerator(rooms_layout)\u001b[39m.\u001b[39mcreate_new_story(dummy\u001b[39m=\u001b[39m\u001b[39mFalse\u001b[39;00m)\n",
      "\u001b[0;31mTypeError\u001b[0m: LlmStoryGenerator.__init__() takes 1 positional argument but 2 were given"
     ]
    }
   ],
   "source": [
    "from llm.llm_story_generator import LlmStoryGenerator\n",
    "\n",
    "story = LlmStoryGenerator(rooms_layout).create_new_story(dummy=False)"
   ]
  },
  {
   "cell_type": "code",
   "execution_count": null,
   "metadata": {},
   "outputs": [],
   "source": []
  }
 ],
 "metadata": {
  "kernelspec": {
   "display_name": "Python [conda env:venv]",
   "language": "python",
   "name": "conda-env-venv-py"
  },
  "language_info": {
   "codemirror_mode": {
    "name": "ipython",
    "version": 3
   },
   "file_extension": ".py",
   "mimetype": "text/x-python",
   "name": "python",
   "nbconvert_exporter": "python",
   "pygments_lexer": "ipython3",
   "version": "3.10.6"
  },
  "orig_nbformat": 4
 },
 "nbformat": 4,
 "nbformat_minor": 2
}
