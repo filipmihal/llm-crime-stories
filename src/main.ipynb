{
 "cells": [
  {
   "cell_type": "code",
   "execution_count": 1,
   "metadata": {},
   "outputs": [
    {
     "name": "stderr",
     "output_type": "stream",
     "text": [
      "/home/jovyan/my-conda-envs/venv/lib/python3.10/site-packages/tqdm/auto.py:21: TqdmWarning: IProgress not found. Please update jupyter and ipywidgets. See https://ipywidgets.readthedocs.io/en/stable/user_install.html\n",
      "  from .autonotebook import tqdm as notebook_tqdm\n"
     ]
    }
   ],
   "source": [
    "from dotenv import load_dotenv\n",
    "import warnings\n",
    "\n",
    "from environment.game import Game\n",
    "from environment.game_state import GameState\n",
    "from environment.generators.random_generator import RandomCrimeSceneMapGenerator\n",
    "from llm.llama import Llama\n",
    "from llm.story_generator import StoryGenerator\n",
    "\n",
    "load_dotenv(dotenv_path=\"./llm-dungeon-adventures/.env\")\n",
    "warnings.filterwarnings(\"ignore\", category=FutureWarning)"
   ]
  },
  {
   "cell_type": "markdown",
   "metadata": {},
   "source": [
    "1. Create a room layout and a theme"
   ]
  },
  {
   "cell_type": "code",
   "execution_count": 2,
   "metadata": {},
   "outputs": [],
   "source": [
    "number_of_rooms = 3\n",
    "theme = \"Smallville, Clark Kent, 2010\"\n",
    "\n",
    "crime_scene_map = RandomCrimeSceneMapGenerator().generate(number_of_rooms, 42)"
   ]
  },
  {
   "cell_type": "markdown",
   "metadata": {},
   "source": [
    "2. Init Llama2"
   ]
  },
  {
   "cell_type": "code",
   "execution_count": 3,
   "metadata": {},
   "outputs": [
    {
     "name": "stderr",
     "output_type": "stream",
     "text": [
      "Loading checkpoint shards: 100%|██████████| 3/3 [00:32<00:00, 10.78s/it]\n"
     ]
    },
    {
     "name": "stdout",
     "output_type": "stream",
     "text": [
      "Model loaded on cuda:0\n"
     ]
    }
   ],
   "source": [
    "from langchain.llms import HuggingFacePipeline\n",
    "\n",
    "llm = Llama()\n",
    "llm_pipeline = HuggingFacePipeline(pipeline=llm.pipeline)"
   ]
  },
  {
   "cell_type": "code",
   "execution_count": 9,
   "metadata": {},
   "outputs": [
    {
     "data": {
      "text/plain": [
       "702"
      ]
     },
     "execution_count": 9,
     "metadata": {},
     "output_type": "execute_result"
    }
   ],
   "source": [
    "# import os, transformers\n",
    "\n",
    "# hf_auth = os.environ[\"HF_AUTH\"]\n",
    "# tokenizer = transformers.AutoTokenizer.from_pretrained(\n",
    "#     \"meta-llama/Llama-2-13b-chat-hf\", use_auth_token=hf_auth\n",
    "# )\n",
    "\n",
    "# len(\n",
    "#     tokenizer.tokenize(\n",
    "#         \"\"\"<s>[INST] <<SYS>>\n",
    "            \n",
    "#             You are a crime storyteller. Always output answer as an array of JSON objects of this scheme: {\"type\": \"array\", \"items\": {\"type\": \"object\", \"properties\": {\"name\": {\"type\": \"string\"}, \"age\": {\"type\": \"number\"}, \"occupation\": {\"type\": \"string\"}, \"alibi\": {\"type\": \"string\"}, \"motive\": {\"type\": \"string\"}}, \"required\": [\"name\", \"age\", \"occupation\", \"alibi\", \"motive\"]}}.\n",
    "#             Avoid outputting anything else than the array of JSON objects.\n",
    "            \n",
    "#             <<SYS>>\n",
    "\n",
    "#             Given a theme: Library of Alexandria, 340 BC, crazy librarian, victim information: {\"name\": \"Archibald Ptolemy\", \"age\": 35, \"occupation\": \"Head Librarian\", \"murder_weapon\": \"Ancient scroll with poisoned ink\", \"death_description\": \"Found dead in his office surrounded by stacks of books, face contorted in a mixture of fear and surprise, as if he had been reading a particularly gruesome text when struck down.\"} and killer information: {\"name\": \"Gaius\", \"age\": 40, \"occupation\": \"Crazy librarian\", \"alibi\": \"Gaius has no alibi. He claims he was in his secret chamber, delving into forbidden texts. No one can vouch for his whereabouts.\", \"motive\": \"Gaius had become increasingly obsessed with ancient and forbidden knowledge. He believed that by eliminating anyone who questioned him, he could protect the library's secrets.\"}, describe 2 suspects that are not the killer. Avoid nicknames.\n",
    "#             suspects:\n",
    "#             [/INST]\n",
    "#             [{\"name\": \"Lucius\", \"age\": 35, \"occupation\": \"Librarian's Assistant\", \"alibi\": \"Lucius claims he was organizing scrolls in the library's main hall at the time of the murder. Several witnesses saw him there throughout the evening.\", \"motive\": \"Lucius had a longstanding feud with Drusilla, who constantly criticized his work and suggested he was not fit for his role. He might have wanted to silence her.\"}, {\"name\": \"Cassandra\", \"age\": 28, \"occupation\": \"Junior Librarian\", \"motive\": \"Cassandra felt threatened by Archibald's strict rules and constant criticism of her work. She may have sought revenge through this brutal act.\", \"alibi\": \"Cassandra asserts she was searching for lost texts in the stacks during the homicide. Multiple patrons corroborate her presence near the scene around the estimated time of death.\"}]</s><s>\n",
    "            \n",
    "#             [INST]\n",
    "#             Given a theme: ['Prohibition Era', 'Speakeasy', 'Bootlegger'], victim information: null and killer information: null, describe 2 suspect that are not the killer. Avoid nicknames.\n",
    "#             suspects:\n",
    "#             [/INST]\"\"\"\n",
    "#     )\n",
    "# )"
   ]
  },
  {
   "cell_type": "code",
   "execution_count": 4,
   "metadata": {},
   "outputs": [],
   "source": [
    "import json\n",
    "import re\n",
    "from time import time\n",
    "\n",
    "from llm.chains.killer_chain import KillerChain\n",
    "from llm.chains.suspect_chain import SuspectChain\n",
    "from llm.chains.victim_chain import VictimChain\n",
    "\n",
    "themes = [\n",
    "    ['Prohibition Era', 'Speakeasy', 'Bootlegger'],\n",
    "    # ['Victorian London', 'Jack the Ripper', 'Scotland Yard'],\n",
    "    # ['1920s Chicago', 'Al Capone', 'Organized Crime'],\n",
    "    # ['Ancient Rome', 'Emperor Nero', 'Assassination Plot'],\n",
    "    # ['Futuristic Megacity', 'Cybernetic Hacker', 'Corporate Espionage'],\n",
    "    # ['Medieval Castle', 'Royal Poisoning', 'Intrigue'],\n",
    "    # ['Wild West', 'Outlaw Gang', 'Bank Heist'],\n",
    "    # ['Small Coastal Town', 'Missing Fisherman', 'Mysterious Disappearances'],\n",
    "    # ['Art World Heist', 'Stolen Masterpiece', 'Undercover Detective'],\n",
    "    # ['1940s Hollywood', 'Film Noir Detective', 'Murder Mystery'],\n",
    "]\n",
    "\n",
    "killer_chain, victim_chain, suspect_chain = KillerChain(llm_pipeline), VictimChain(llm_pipeline), SuspectChain(llm_pipeline)\n",
    "\n",
    "results = []\n",
    "for theme in themes:\n",
    "    start_time = time()\n",
    "    victim = victim_chain.create(theme)\n",
    "    #killer = killer_chain.create(theme, victim)\n",
    "    #suspects = suspect_chain.create(theme, victim, killer)\n",
    "    end_time = time()\n",
    "    \n",
    "    results.append({\n",
    "        \"elapsed_time\": end_time - start_time,\n",
    "        \"theme\": theme,\n",
    "        \"victim\": victim,\n",
    "        #\"killer\": killer,\n",
    "        #\"suspects\": suspects\n",
    "    })"
   ]
  },
  {
   "cell_type": "code",
   "execution_count": 6,
   "metadata": {},
   "outputs": [
    {
     "data": {
      "text/plain": [
       "[{'elapsed_time': 9.588946104049683,\n",
       "  'theme': ['Prohibition Era', 'Speakeasy', 'Bootlegger'],\n",
       "  'victim': None}]"
      ]
     },
     "execution_count": 6,
     "metadata": {},
     "output_type": "execute_result"
    }
   ],
   "source": [
    "results"
   ]
  },
  {
   "cell_type": "markdown",
   "metadata": {},
   "source": [
    "3. Create a story"
   ]
  },
  {
   "cell_type": "code",
   "execution_count": null,
   "metadata": {},
   "outputs": [],
   "source": [
    "story = StoryGenerator(crime_scene_map.rooms, llm).create_new_story(theme=theme, dummy=False)\n",
    "\n",
    "story"
   ]
  },
  {
   "cell_type": "markdown",
   "metadata": {},
   "source": [
    "4. Create an initial game state"
   ]
  },
  {
   "cell_type": "code",
   "execution_count": null,
   "metadata": {},
   "outputs": [],
   "source": [
    "initial_game_state = GameState(crime_scene_map, story)"
   ]
  },
  {
   "cell_type": "markdown",
   "metadata": {},
   "source": [
    "5. Create a game"
   ]
  },
  {
   "cell_type": "code",
   "execution_count": null,
   "metadata": {},
   "outputs": [],
   "source": [
    "game = Game(initial_game_state)"
   ]
  }
 ],
 "metadata": {
  "kernelspec": {
   "display_name": "Python [conda env:venv]",
   "language": "python",
   "name": "conda-env-venv-py"
  },
  "language_info": {
   "codemirror_mode": {
    "name": "ipython",
    "version": 3
   },
   "file_extension": ".py",
   "mimetype": "text/x-python",
   "name": "python",
   "nbconvert_exporter": "python",
   "pygments_lexer": "ipython3",
   "version": "3.10.6"
  },
  "orig_nbformat": 4
 },
 "nbformat": 4,
 "nbformat_minor": 2
}
