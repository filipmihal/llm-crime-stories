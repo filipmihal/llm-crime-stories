{
 "cells": [
  {
   "cell_type": "code",
   "execution_count": 1,
   "metadata": {},
   "outputs": [
    {
     "data": {
      "text/plain": [
       "True"
      ]
     },
     "execution_count": 1,
     "metadata": {},
     "output_type": "execute_result"
    }
   ],
   "source": [
    "from dotenv import load_dotenv\n",
    "\n",
    "load_dotenv(dotenv_path=\"./llm-dungeon-adventures/.env\")"
   ]
  },
  {
   "cell_type": "code",
   "execution_count": null,
   "metadata": {},
   "outputs": [],
   "source": [
    "from environment.game import Game\n",
    "from environment.generators.random_grid_generator import RandomGridGenerator\n",
    "from environment.grid_visualizer import GridVisualizer\n",
    "from environment.types import Direction\n",
    "\n",
    "# Generate a dungeon of the given size.\n",
    "generator, DUNGEON_SIZE = RandomGridGenerator(), 50\n",
    "start_location, grid = generator.generate(DUNGEON_SIZE, generator_seed=100, debug=True)\n",
    "\n",
    "# Visualize.\n",
    "GridVisualizer.visualize(grid, start_location, DUNGEON_SIZE)\n",
    "\n",
    "game = Game(start_location)\n",
    "for c in range(3):\n",
    "    print(\"------------------\")\n",
    "    if c % 2 == 0:\n",
    "        game.move(Direction.NORTH.value)\n",
    "    else:\n",
    "        game.move(Direction.EAST.value)\n",
    "    GridVisualizer.visualize(grid, game.current_location, DUNGEON_SIZE)\n"
   ]
  }
 ],
 "metadata": {
  "kernelspec": {
   "display_name": "Python [conda env:venv]",
   "language": "python",
   "name": "conda-env-venv-py"
  },
  "language_info": {
   "codemirror_mode": {
    "name": "ipython",
    "version": 3
   },
   "file_extension": ".py",
   "mimetype": "text/x-python",
   "name": "python",
   "nbconvert_exporter": "python",
   "pygments_lexer": "ipython3",
   "version": "3.10.6"
  },
  "orig_nbformat": 4
 },
 "nbformat": 4,
 "nbformat_minor": 2
}
