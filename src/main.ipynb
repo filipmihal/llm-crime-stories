{
 "cells": [
  {
   "cell_type": "code",
   "execution_count": 1,
   "metadata": {},
   "outputs": [
    {
     "name": "stderr",
     "output_type": "stream",
     "text": [
      "/home/jovyan/my-conda-envs/venv/lib/python3.10/site-packages/tqdm/auto.py:21: TqdmWarning: IProgress not found. Please update jupyter and ipywidgets. See https://ipywidgets.readthedocs.io/en/stable/user_install.html\n",
      "  from .autonotebook import tqdm as notebook_tqdm\n"
     ]
    }
   ],
   "source": [
    "from dotenv import load_dotenv\n",
    "import warnings\n",
    "\n",
    "from environment.game import Game\n",
    "from environment.game_state import GameState\n",
    "from environment.generators.random_generator import RandomCrimeSceneMapGenerator\n",
    "from llm.llama import Llama\n",
    "from llm.story_generator import StoryGenerator\n",
    "\n",
    "load_dotenv(dotenv_path=\"./llm-dungeon-adventures/.env\")\n",
    "warnings.filterwarnings(\"ignore\", category=FutureWarning)"
   ]
  },
  {
   "cell_type": "markdown",
   "metadata": {},
   "source": [
    "1. Create a room layout and a theme"
   ]
  },
  {
   "cell_type": "code",
   "execution_count": 2,
   "metadata": {},
   "outputs": [],
   "source": [
    "number_of_rooms = 3\n",
    "theme = \"Smallville, Clark Kent, 2010\"\n",
    "\n",
    "crime_scene_map = RandomCrimeSceneMapGenerator().generate(number_of_rooms, 42)"
   ]
  },
  {
   "cell_type": "markdown",
   "metadata": {},
   "source": [
    "2. Init Llama2"
   ]
  },
  {
   "cell_type": "code",
   "execution_count": 3,
   "metadata": {},
   "outputs": [
    {
     "name": "stderr",
     "output_type": "stream",
     "text": [
      "Loading checkpoint shards: 100%|██████████| 3/3 [00:29<00:00,  9.98s/it]\n"
     ]
    },
    {
     "name": "stdout",
     "output_type": "stream",
     "text": [
      "Model loaded on cuda:0\n"
     ]
    }
   ],
   "source": [
    "from langchain.llms import HuggingFacePipeline\n",
    "\n",
    "llm = Llama()\n",
    "llm_pipeline = HuggingFacePipeline(pipeline=llm.pipeline)"
   ]
  },
  {
   "cell_type": "code",
   "execution_count": 4,
   "metadata": {},
   "outputs": [],
   "source": [
    "import json\n",
    "import re\n",
    "from time import time\n",
    "\n",
    "from llm.chains.victim_chain import VictimChain\n",
    "\n",
    "themes = [\n",
    "    ['Prohibition Era', 'Speakeasy', 'Bootlegger'],\n",
    "    ['Victorian London', 'Jack the Ripper', 'Scotland Yard'],\n",
    "    ['1920s Chicago', 'Al Capone', 'Organized Crime'],\n",
    "    ['Ancient Rome', 'Emperor Nero', 'Assassination Plot'],\n",
    "    ['Futuristic Megacity', 'Cybernetic Hacker', 'Corporate Espionage'],\n",
    "    ['Medieval Castle', 'Royal Poisoning', 'Intrigue'],\n",
    "    ['Wild West', 'Outlaw Gang', 'Bank Heist'],\n",
    "    ['Small Coastal Town', 'Missing Fisherman', 'Mysterious Disappearances'],\n",
    "    ['Art World Heist', 'Stolen Masterpiece', 'Undercover Detective'],\n",
    "    ['1940s Hollywood', 'Film Noir Detective', 'Murder Mystery'],\n",
    "]\n",
    "\n",
    "chain = VictimChain(llm_pipeline)\n",
    "\n",
    "results = []\n",
    "for theme in themes:\n",
    "    start_time = time()\n",
    "    victim = chain.create(theme)\n",
    "    end_time = time()\n",
    "    \n",
    "    victim = re.sub('\\n\\s*', '', victim)\n",
    "    \n",
    "    res = {\n",
    "        \"elapsed_time\": end_time - start_time,\n",
    "        \"theme\": theme,\n",
    "        \"llm_output\": victim\n",
    "    }\n",
    "    \n",
    "    try:\n",
    "        parsed = json.loads(victim)\n",
    "        res.update({ \"json_parsed\": parsed })\n",
    "    except Exception as e:\n",
    "        res.update({ \"error\": repr(e) })\n",
    "        \n",
    "    results.append(res)"
   ]
  },
  {
   "cell_type": "code",
   "execution_count": 5,
   "metadata": {},
   "outputs": [
    {
     "data": {
      "text/plain": [
       "[{'elapsed_time': 9.760753393173218,\n",
       "  'theme': ['Prohibition Era', 'Speakeasy', 'Bootlegger'],\n",
       "  'llm_output': '{\"name\": \"Vinnie \"The Knife\" LaRosa\",\"age\": 35,\"occupation\": \"Notorious bootlegger and owner of The Blind Pig speakeasy\",\"murder_weapon\": \"Silenced.45 caliber revolver\",\"death_description\": \"Found slumped over his office desk with a look of shock on his face, a bullet hole in the center of his forehead, and a note reading \\'You\\'ve been pinched, Vinnie.\\'\"}',\n",
       "  'error': 'JSONDecodeError(\"Expecting \\',\\' delimiter: line 1 column 19 (char 18)\")'},\n",
       " {'elapsed_time': 6.899394273757935,\n",
       "  'theme': ['Victorian London', 'Jack the Ripper', 'Scotland Yard'],\n",
       "  'llm_output': '{\"name\": \"Mary Ann Nichols\",\"age\": 45,\" occupation\": \"Prostitute\",\"murder_weapon\": \"sharp knife\",\"death_description\": \"Found lying on her back in a pool of blood, throat slit from ear to ear, body mutilated beyond recognition, in an alleyway off Whitechapel Road.\"}',\n",
       "  'json_parsed': {'name': 'Mary Ann Nichols',\n",
       "   'age': 45,\n",
       "   ' occupation': 'Prostitute',\n",
       "   'murder_weapon': 'sharp knife',\n",
       "   'death_description': 'Found lying on her back in a pool of blood, throat slit from ear to ear, body mutilated beyond recognition, in an alleyway off Whitechapel Road.'}},\n",
       " {'elapsed_time': 8.666198253631592,\n",
       "  'theme': ['1920s Chicago', 'Al Capone', 'Organized Crime'],\n",
       "  'llm_output': '{\"name\": \"Vinnie \"The Bull\" LaRosa\",\"age\": 35,\"occupation\": \"Enforcer for Al Capone\\'s syndicate\",\"murder_weapon\": \"shotgun blast to the chest\",\"death_description\": \"Found lying in an alleyway behind a speakeasy, riddled with bullet holes and covered in blood, with a note attached to his lapel that read \\'You messed with the wrong gangster.\\'\"}',\n",
       "  'error': 'JSONDecodeError(\"Expecting \\',\\' delimiter: line 1 column 19 (char 18)\")'},\n",
       " {'elapsed_time': 8.174038648605347,\n",
       "  'theme': ['Ancient Rome', 'Emperor Nero', 'Assassination Plot'],\n",
       "  'llm_output': '{\"name\": \"Livia Claudia\",\"age\": 50,\"occupation\": \"Empress and wife of Emperor Nero\",\"murder_weapon\": \"poisoned cupcake\",\"death_description\": \"Found dead in her chambers, with a look of shock on her face and a half-eaten cupcake nearby, rumored to have been poisoned by an assassin hired by one of Nero\\'s rivals.\"}',\n",
       "  'json_parsed': {'name': 'Livia Claudia',\n",
       "   'age': 50,\n",
       "   'occupation': 'Empress and wife of Emperor Nero',\n",
       "   'murder_weapon': 'poisoned cupcake',\n",
       "   'death_description': \"Found dead in her chambers, with a look of shock on her face and a half-eaten cupcake nearby, rumored to have been poisoned by an assassin hired by one of Nero's rivals.\"}},\n",
       " {'elapsed_time': 7.689488172531128,\n",
       "  'theme': ['Futuristic Megacity', 'Cybernetic Hacker', 'Corporate Espionage'],\n",
       "  'llm_output': '{\"name\": \"Zara Kim\",\"age\": 35,\" occupation\": \"Renowned Cybernetic Engineer\",\"murder_weapon\": \"High-tech plasma blade\",\"death_description\": \"Found dead in her high-rise apartment, lying next to her custom-built cybernetic arm, with multiple slash wounds and signs of digital tampering on her neural implants.\"}',\n",
       "  'json_parsed': {'name': 'Zara Kim',\n",
       "   'age': 35,\n",
       "   ' occupation': 'Renowned Cybernetic Engineer',\n",
       "   'murder_weapon': 'High-tech plasma blade',\n",
       "   'death_description': 'Found dead in her high-rise apartment, lying next to her custom-built cybernetic arm, with multiple slash wounds and signs of digital tampering on her neural implants.'}},\n",
       " {'elapsed_time': 7.156280517578125,\n",
       "  'theme': ['Medieval Castle', 'Royal Poisoning', 'Intrigue'],\n",
       "  'llm_output': '{\"name\": \"Lord Edgar Blackwood\",\"age\": 56,\"occupation\": \"Court Advisor to the King and Queen\",\"murder_weapon\": \"poisoned goblet\",\"death_description\": \"Found slumped over the banquet table, choking on his own vomit, with a look of shock and betrayal etched on his face.\"}',\n",
       "  'json_parsed': {'name': 'Lord Edgar Blackwood',\n",
       "   'age': 56,\n",
       "   'occupation': 'Court Advisor to the King and Queen',\n",
       "   'murder_weapon': 'poisoned goblet',\n",
       "   'death_description': 'Found slumped over the banquet table, choking on his own vomit, with a look of shock and betrayal etched on his face.'}},\n",
       " {'elapsed_time': 6.407946825027466,\n",
       "  'theme': ['Wild West', 'Outlaw Gang', 'Bank Heist'],\n",
       "  'llm_output': '{\"name\": \" Sheriff John Brown\",\"age\": 56,\"occupation\": \"Sheriff of Red Rock Town\",\"murder_weapon\": \"shotgun blast to the chest\",\"death_description\": \" Found dead in the street outside the bank after trying to stop an outlaw gang\\'s heist.\"}',\n",
       "  'json_parsed': {'name': ' Sheriff John Brown',\n",
       "   'age': 56,\n",
       "   'occupation': 'Sheriff of Red Rock Town',\n",
       "   'murder_weapon': 'shotgun blast to the chest',\n",
       "   'death_description': \" Found dead in the street outside the bank after trying to stop an outlaw gang's heist.\"}},\n",
       " {'elapsed_time': 7.773743152618408,\n",
       "  'theme': ['Small Coastal Town',\n",
       "   'Missing Fisherman',\n",
       "   'Mysterious Disappearances'],\n",
       "  'llm_output': '{\"name\": \"Gilbert Jenkins\",\"age\": 56,\"occupation\": \"Fisherman\",\"murder_weapon\": \"Rusty fishhook\",\"death_description\": \"Found floating facedown in the ocean, dressed in tattered fishing gear and clutching a torn piece of seaweed. The townspeople suspect foul play but can\\'t quite put their finger on what happened to Gilbert.\"}',\n",
       "  'json_parsed': {'name': 'Gilbert Jenkins',\n",
       "   'age': 56,\n",
       "   'occupation': 'Fisherman',\n",
       "   'murder_weapon': 'Rusty fishhook',\n",
       "   'death_description': \"Found floating facedown in the ocean, dressed in tattered fishing gear and clutching a torn piece of seaweed. The townspeople suspect foul play but can't quite put their finger on what happened to Gilbert.\"}},\n",
       " {'elapsed_time': 7.715717792510986,\n",
       "  'theme': ['Art World Heist', 'Stolen Masterpiece', 'Undercover Detective'],\n",
       "  'llm_output': '{\"name\": \"Professor Adelaide LaFleur\",\"age\": 58,\"occupation\": \"Renowned art historian and curator\",\"murder_weapon\": \"blunt object to the head\",\"death_description\": \"Found dead in the gallery\\'s storage room, next to a stack of recently stolen paintings, with a note on her body reading \\'You should have kept your mouth shut.\\'\"}',\n",
       "  'json_parsed': {'name': 'Professor Adelaide LaFleur',\n",
       "   'age': 58,\n",
       "   'occupation': 'Renowned art historian and curator',\n",
       "   'murder_weapon': 'blunt object to the head',\n",
       "   'death_description': \"Found dead in the gallery's storage room, next to a stack of recently stolen paintings, with a note on her body reading 'You should have kept your mouth shut.'\"}},\n",
       " {'elapsed_time': 7.809861421585083,\n",
       "  'theme': ['1940s Hollywood', 'Film Noir Detective', 'Murder Mystery'],\n",
       "  'llm_output': '{\"name\": \"Ruby Reynolds\",\"age\": 35,\"occupation\": \"Femme Fatale and Leading Lady\",\"murder_weapon\": \"poisoned martini glass\",\"death_description\": \"Discovered dead in her luxurious bedroom, dressed to the nines in a slinky black gown, with a sly smile on her lips and a hint of malice in her eyes.\"}',\n",
       "  'json_parsed': {'name': 'Ruby Reynolds',\n",
       "   'age': 35,\n",
       "   'occupation': 'Femme Fatale and Leading Lady',\n",
       "   'murder_weapon': 'poisoned martini glass',\n",
       "   'death_description': 'Discovered dead in her luxurious bedroom, dressed to the nines in a slinky black gown, with a sly smile on her lips and a hint of malice in her eyes.'}}]"
      ]
     },
     "execution_count": 5,
     "metadata": {},
     "output_type": "execute_result"
    }
   ],
   "source": [
    "results"
   ]
  },
  {
   "cell_type": "markdown",
   "metadata": {},
   "source": [
    "3. Create a story"
   ]
  },
  {
   "cell_type": "code",
   "execution_count": 4,
   "metadata": {},
   "outputs": [
    {
     "name": "stdout",
     "output_type": "stream",
     "text": [
      "{'name': 'Archibald Ptolemy', 'age': 35, 'occupation': 'Head Librarian', 'murder_weapon': 'Ancient scroll with poisoned ink', 'death_description': 'Found dead in his office surrounded by stacks of books, face contorted in a mixture of fear and surprise, as if he had been reading a particularly gruesome text when struck down.'}\n",
      "\n",
      "            killer:\n",
      "              name: \"Gaius\"\n",
      "              age: 40\n",
      "              occupation: \"Crazy Librarian\"\n",
      "              alibi: |\n",
      "                Gaius, known as the 'Crazy Librarian,' claims he was in his secret chamber, delving into forbidden texts.\n",
      "                No one can vouch for his whereabouts.\n",
      "              motive: |\n",
      "                Gaius had become increasingly obsessed with ancient and forbidden knowledge.\n",
      "                He believed that by eliminating anyone who questioned him, he could protect the library's secrets.\n",
      "              \n",
      "{'name': 'Gaius', 'age': 40, 'occupation': 'Crazy Librarian', 'motive': \"Gaius had become increasingly obsessed with ancient and forbidden knowledge.\\nHe believed that by eliminating anyone who questioned him, he could protect the library's secrets.\\n\", 'alibi': \"Gaius, known as the 'Crazy Librarian,' claims he was in his secret chamber, delving into forbidden texts.\\nNo one can vouch for his whereabouts.\\n\"}\n",
      "\n",
      "          suspect:  \n",
      "            name: \"Eutychius\"\n",
      "            age: 28\n",
      "            occupation: \"Junior Clerk\"\n",
      "            alibi: >\n",
      "              Eutychius swears he was searching for rare tomes in the stacks during the time of the murder.\n",
      "              Multiple patrons recall seeing him near the scene of the crime around dusk.\n",
      "            motive: >\n",
      "              Eutychius held a grudge against Archibald due to constant criticism of his sloppy record-keeping and disorganized cataloguing methods.\n",
      "              Perhaps he sought revenge through the ancient texts he so meticulously maintained.\n",
      "\n",
      "          suspect:  \n",
      "            name: \"Eutychius\"\n",
      "            age: 28\n",
      "            occupation: \"Junior Clerk\"\n",
      "            alibi: >\n",
      "              Eutychius swears he spent the entire night copying manuscripts in the back room of the library.\n",
      "              His fellow clerks confirm his presence there until midnight.\n",
      "            motive: >\n",
      "              Eutychius harbored resentment towards Archibald due to his perceived favoritism towards more senior staff members.\n",
      "              Additionally, he recently discovered an ancient text containing revolutionary ideas which could potentially disrupt the status quo, and Archibald had expressed interest in reviewing it before his death.\n"
     ]
    },
    {
     "data": {
      "text/plain": [
       "{'theme': 'Library of Alexandria, 340 BC, crazy librarian',\n",
       " 'killer': {'name': 'Gaius',\n",
       "  'age': 40,\n",
       "  'occupation': 'Crazy Librarian',\n",
       "  'motive': \"Gaius had become increasingly obsessed with ancient and forbidden knowledge.\\nHe believed that by eliminating anyone who questioned him, he could protect the library's secrets.\\n\",\n",
       "  'alibi': \"Gaius, known as the 'Crazy Librarian,' claims he was in his secret chamber, delving into forbidden texts.\\nNo one can vouch for his whereabouts.\\n\"},\n",
       " 'victim': {'name': 'Archibald Ptolemy',\n",
       "  'age': 35,\n",
       "  'occupation': 'Head Librarian',\n",
       "  'murder_weapon': 'Ancient scroll with poisoned ink',\n",
       "  'death_description': 'Found dead in his office surrounded by stacks of books, face contorted in a mixture of fear and surprise, as if he had been reading a particularly gruesome text when struck down.'},\n",
       " 'suspects': [{'name': 'Eutychius',\n",
       "   'age': 28,\n",
       "   'occupation': 'Junior Clerk',\n",
       "   'motive': 'Eutychius held a grudge against Archibald due to constant criticism of his sloppy record-keeping and disorganized cataloguing methods. Perhaps he sought revenge through the ancient texts he so meticulously maintained.',\n",
       "   'alibi': 'Eutychius swears he was searching for rare tomes in the stacks during the time of the murder. Multiple patrons recall seeing him near the scene of the crime around dusk.\\n'},\n",
       "  {'name': 'Eutychius',\n",
       "   'age': 28,\n",
       "   'occupation': 'Junior Clerk',\n",
       "   'motive': 'Eutychius harbored resentment towards Archibald due to his perceived favoritism towards more senior staff members. Additionally, he recently discovered an ancient text containing revolutionary ideas which could potentially disrupt the status quo, and Archibald had expressed interest in reviewing it before his death.',\n",
       "   'alibi': 'Eutychius swears he spent the entire night copying manuscripts in the back room of the library. His fellow clerks confirm his presence there until midnight.\\n'}],\n",
       " 'rooms': [{'name': 'The Scrollery',\n",
       "   'description': \"The room where Archibald Ptolemy's lifeless body was discovered is called The Scrollery. This vast hall houses some of the rarest and most valuable texts in the entire library, including fragile papyrus rolls and intricate illuminated manuscripts. The air is thick with the scent of old paper and ink, and the soft glow of candles provides a warm, inviting light. However, amidst the tranquil atmosphere, a sense of unease lingers, as if the very knowledge contained within these pages holds a dark power over those who seek to uncover its secrets. It was here, surrounded by towering shelves of ancient texts, that Head Librarian Archibald Ptolemy met his grisly demise, his body cold and stiff beneath a pile of scrolls, his eyes frozen in a look of perpetual shock.\",\n",
       "   'row': 3,\n",
       "   'col': 3},\n",
       "  {'name': 'The Ancient Tomes Stacks',\n",
       "   'description': \"Deep within the bowels of the Library of Alexandria lies 'The Ancient Tomes Stacks', a labyrinthine repository of forgotten lore. Eutychius spent most of his days amidst these dusty shelves, tirelessly organizing and categorizing the countless volumes of knowledge. The air here holds the scent of old parchment, mingled with the subtle tang of madness. In this place, the whispers of centuries past echo through the narrow aisles, carried upon the gentle rustling of papyrus pages. Amidst the twilight gloom, the flickering candles cast eerie shadows upon the walls, hinting at the secrets hidden within the ancient texts. It was here, in this very room, that Eutychius was last seen before the brutal slaying of Drusilla, the Chief Librarian.\",\n",
       "   'row': 3,\n",
       "   'col': 2},\n",
       "  {'name': 'The Ancient Text Vault',\n",
       "   'description': \"Deep within the heart of the Library of Alexandria lies 'The Ancient Text Vault', a place of reverence and secrecy. This vault houses some of the most precious and controversial tomes ever penned. Eutychius, Junior Clerk and suspected killer, often worked late into the night among these sacred texts, surrounded by the whispers of centuries past. The air here holds the weight of history, and the flickering torches cast eerie shadows upon the walls, hinting at the mysteries hidden within the pages of these ancient volumes. According to Eutychius' alibi, he spent the night alone in this vault, immersed in his work, but did he truly remain here uninterrupted? The truth may be buried beneath the dust of forgotten lore.\",\n",
       "   'row': 4,\n",
       "   'col': 2}],\n",
       " 'suspects_positions': [{'row': 3, 'col': 2}, {'row': 4, 'col': 2}]}"
      ]
     },
     "execution_count": 4,
     "metadata": {},
     "output_type": "execute_result"
    }
   ],
   "source": [
    "story = StoryGenerator(crime_scene_map.rooms, llm).create_new_story(number_of_suspects=number_of_rooms - 1, theme=theme, dummy=False)\n",
    "\n",
    "story"
   ]
  },
  {
   "cell_type": "markdown",
   "metadata": {},
   "source": [
    "4. Create an initial game state"
   ]
  },
  {
   "cell_type": "code",
   "execution_count": 5,
   "metadata": {},
   "outputs": [
    {
     "ename": "AttributeError",
     "evalue": "'dict' object has no attribute 'victim'",
     "output_type": "error",
     "traceback": [
      "\u001b[0;31m---------------------------------------------------------------------------\u001b[0m",
      "\u001b[0;31mAttributeError\u001b[0m                            Traceback (most recent call last)",
      "\u001b[1;32m/home/drobec/Documents/llm-dungeon-adventures/src/main.ipynb Cell 9\u001b[0m line \u001b[0;36m1\n\u001b[0;32m----> <a href='vscode-notebook-cell:/home/drobec/Documents/llm-dungeon-adventures/src/main.ipynb#X26sZmlsZQ%3D%3D?line=0'>1</a>\u001b[0m initial_game_state \u001b[39m=\u001b[39m GameState(crime_scene_map, story)\n",
      "File \u001b[0;32m~/llm-dungeon-adventures/src/environment/game_state.py:13\u001b[0m, in \u001b[0;36mGameState.__init__\u001b[0;34m(self, crime_scene_map, story)\u001b[0m\n\u001b[1;32m     10\u001b[0m \u001b[39mself\u001b[39m\u001b[39m.\u001b[39m_crime_scene_map \u001b[39m=\u001b[39m crime_scene_map\n\u001b[1;32m     11\u001b[0m \u001b[39mself\u001b[39m\u001b[39m.\u001b[39m_current_room, \u001b[39mself\u001b[39m\u001b[39m.\u001b[39m_previous_room \u001b[39m=\u001b[39m crime_scene_map\u001b[39m.\u001b[39mstart, \u001b[39mNone\u001b[39;00m\n\u001b[0;32m---> 13\u001b[0m \u001b[39mself\u001b[39;49m\u001b[39m.\u001b[39;49m_import_story(story)\n",
      "File \u001b[0;32m~/llm-dungeon-adventures/src/environment/game_state.py:37\u001b[0m, in \u001b[0;36mGameState._import_story\u001b[0;34m(self, story)\u001b[0m\n\u001b[1;32m     36\u001b[0m \u001b[39mdef\u001b[39;00m \u001b[39m_import_story\u001b[39m(\u001b[39mself\u001b[39m, story: StorySchema) \u001b[39m-\u001b[39m\u001b[39m>\u001b[39m \u001b[39mNone\u001b[39;00m:\n\u001b[0;32m---> 37\u001b[0m     \u001b[39mself\u001b[39m\u001b[39m.\u001b[39m_victim \u001b[39m=\u001b[39m story\u001b[39m.\u001b[39;49mvictim\n\u001b[1;32m     39\u001b[0m     \u001b[39mself\u001b[39m\u001b[39m.\u001b[39m_suspects \u001b[39m=\u001b[39m {}\n\u001b[1;32m     40\u001b[0m     \u001b[39mfor\u001b[39;00m suspect, position \u001b[39min\u001b[39;00m \u001b[39mzip\u001b[39m(story\u001b[39m.\u001b[39msuspects, story\u001b[39m.\u001b[39msuspects_positions):\n",
      "\u001b[0;31mAttributeError\u001b[0m: 'dict' object has no attribute 'victim'"
     ]
    }
   ],
   "source": [
    "initial_game_state = GameState(crime_scene_map, story)"
   ]
  },
  {
   "cell_type": "markdown",
   "metadata": {},
   "source": [
    "5. Create a game"
   ]
  },
  {
   "cell_type": "code",
   "execution_count": null,
   "metadata": {},
   "outputs": [],
   "source": [
    "game = Game(initial_game_state)"
   ]
  }
 ],
 "metadata": {
  "kernelspec": {
   "display_name": "Python [conda env:venv]",
   "language": "python",
   "name": "conda-env-venv-py"
  },
  "language_info": {
   "codemirror_mode": {
    "name": "ipython",
    "version": 3
   },
   "file_extension": ".py",
   "mimetype": "text/x-python",
   "name": "python",
   "nbconvert_exporter": "python",
   "pygments_lexer": "ipython3",
   "version": "3.10.6"
  },
  "orig_nbformat": 4
 },
 "nbformat": 4,
 "nbformat_minor": 2
}
