{
 "cells": [
  {
   "cell_type": "code",
   "execution_count": 1,
   "metadata": {},
   "outputs": [
    {
     "data": {
      "text/plain": [
       "True"
      ]
     },
     "execution_count": 1,
     "metadata": {},
     "output_type": "execute_result"
    }
   ],
   "source": [
    "from dotenv import load_dotenv\n",
    "\n",
    "load_dotenv(dotenv_path=\"./llm-dungeon-adventures/.env\")"
   ]
  },
  {
   "cell_type": "code",
   "execution_count": 1,
   "metadata": {},
   "outputs": [
    {
     "ename": "ModuleNotFoundError",
     "evalue": "No module named 'environment'",
     "output_type": "error",
     "traceback": [
      "\u001b[0;31m---------------------------------------------------------------------------\u001b[0m",
      "\u001b[0;31mModuleNotFoundError\u001b[0m                       Traceback (most recent call last)",
      "Cell \u001b[0;32mIn[1], line 1\u001b[0m\n\u001b[0;32m----> 1\u001b[0m \u001b[39mfrom\u001b[39;00m \u001b[39menvironment\u001b[39;00m\u001b[39m.\u001b[39;00m\u001b[39mgame\u001b[39;00m \u001b[39mimport\u001b[39;00m Game\n\u001b[1;32m      2\u001b[0m \u001b[39mfrom\u001b[39;00m \u001b[39menvironment\u001b[39;00m\u001b[39m.\u001b[39;00m\u001b[39mgenerators\u001b[39;00m\u001b[39m.\u001b[39;00m\u001b[39mrandom_grid_generator\u001b[39;00m \u001b[39mimport\u001b[39;00m RandomGridGenerator\n\u001b[1;32m      3\u001b[0m \u001b[39mfrom\u001b[39;00m \u001b[39menvironment\u001b[39;00m\u001b[39m.\u001b[39;00m\u001b[39mgrid_visualizer\u001b[39;00m \u001b[39mimport\u001b[39;00m GridVisualizer\n",
      "\u001b[0;31mModuleNotFoundError\u001b[0m: No module named 'environment'"
     ]
    }
   ],
   "source": [
    "from environment.game import Game\n",
    "from environment.generators.random_grid_generator import RandomGridGenerator\n",
    "from environment.grid_visualizer import GridVisualizer\n",
    "from environment.types import Direction\n",
    "\n",
    "DUNGEON_SIZE, generator_seed = 50, 100\n",
    "generator = RandomGridGenerator(DUNGEON_SIZE, generator_seed)\n",
    "game = Game(generator)\n",
    "text = \"go north\\ngo east\\ngo east\"\n",
    "game.play(text)\n"
   ]
  },
  {
   "cell_type": "code",
   "execution_count": null,
   "metadata": {},
   "outputs": [],
   "source": []
  }
 ],
 "metadata": {
  "kernelspec": {
   "display_name": "Python 3 (ipykernel)",
   "language": "python",
   "name": "python3"
  },
  "language_info": {
   "codemirror_mode": {
    "name": "ipython",
    "version": 3
   },
   "file_extension": ".py",
   "mimetype": "text/x-python",
   "name": "python",
   "nbconvert_exporter": "python",
   "pygments_lexer": "ipython3",
   "version": "3.10.8"
  },
  "orig_nbformat": 4
 },
 "nbformat": 4,
 "nbformat_minor": 2
}
