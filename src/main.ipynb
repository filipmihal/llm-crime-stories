{
 "cells": [
  {
   "cell_type": "code",
   "execution_count": 1,
   "metadata": {},
   "outputs": [
    {
     "name": "stderr",
     "output_type": "stream",
     "text": [
      "/home/jovyan/my-conda-envs/venv/lib/python3.10/site-packages/tqdm/auto.py:21: TqdmWarning: IProgress not found. Please update jupyter and ipywidgets. See https://ipywidgets.readthedocs.io/en/stable/user_install.html\n",
      "  from .autonotebook import tqdm as notebook_tqdm\n"
     ]
    }
   ],
   "source": [
    "from dotenv import load_dotenv\n",
    "from environment.game import Game\n",
    "from environment.generators.random_grid_generator import RandomGridGenerator\n",
    "from environment.grid_visualizer import GridVisualizer\n",
    "from environment.types import Direction\n",
    "\n",
    "load_dotenv(dotenv_path=\"./llm-dungeon-adventures/.env\")\n",
    "\n",
    "import warnings\n",
    "warnings.filterwarnings(\"ignore\", category=FutureWarning)"
   ]
  },
  {
   "cell_type": "markdown",
   "metadata": {},
   "source": [
    "1. Create a room layout, theme"
   ]
  },
  {
   "cell_type": "code",
   "execution_count": 2,
   "metadata": {},
   "outputs": [],
   "source": [
    "number_of_rooms = 3\n",
    "theme = \"Library of Alexandria, 340 BC, crazy librarian\"\n",
    "\n",
    "start, rooms_layout = RandomGridGenerator(number_of_rooms, 42).generate()"
   ]
  },
  {
   "cell_type": "markdown",
   "metadata": {},
   "source": [
    "2. Create a story"
   ]
  },
  {
   "cell_type": "code",
   "execution_count": 3,
   "metadata": {},
   "outputs": [
    {
     "name": "stderr",
     "output_type": "stream",
     "text": [
      "Loading checkpoint shards: 100%|██████████| 3/3 [00:33<00:00, 11.28s/it]\n"
     ]
    },
    {
     "name": "stdout",
     "output_type": "stream",
     "text": [
      "Model loaded on cuda:0\n"
     ]
    },
    {
     "data": {
      "text/plain": [
       "{'theme': 'Library of Alexandria, 340 BC, crazy librarian',\n",
       " 'killer': {'name': 'Gaius',\n",
       "  'age': 40,\n",
       "  'occupation': 'Crazy Librarian',\n",
       "  'motive': \"Gaius had become increasingly obsessed with ancient and forbidden knowledge. He believed that by eliminating anyone who questioned him, he could protect the library's secrets.\\n\",\n",
       "  'alibi': \"Gaius, known as the 'Crazy Librarian,' has no alibi. He claims he was in his secret chamber, delving into forbidden texts. No one can vouch for his whereabouts.\\n\"},\n",
       " 'victim': {'name': 'Archibald Ptolemy',\n",
       "  'age': 42,\n",
       "  'occupation': 'head librarian',\n",
       "  'murder_weapon': 'fragile ancient scroll',\n",
       "  'death_description': 'Found face down under pile of books with a broken quill pen lodged in his back, surrounded by scattered papyrus rolls.'},\n",
       " 'suspects': [{'name': 'Cassandra',\n",
       "   'age': 28,\n",
       "   'occupation': 'Junior Librarian',\n",
       "   'motive': \"Cassandra felt threatened by Archibald's strict rules and constant criticism of her work. She may have sought revenge through this brutal act.\",\n",
       "   'alibi': 'Cassandra asserts she was searching for lost texts in the stacks during the homicide. Multiple patrons corroborate her presence near the scene around the estimated time of death.\\n'},\n",
       "  {'name': 'Eutychius',\n",
       "   'age': 61,\n",
       "   'occupation': 'Retired Papyrus Restorer',\n",
       "   'motive': 'Eutychius held a grudge against Archibald for dismissing his application for a promotion years ago. Despite his advanced age, he still felt capable enough to exact revenge.',\n",
       "   'alibi': 'Eutychius swears he was in his workshop, repairing a damaged parchment, during the time of the murder. Multiple colleagues confirm they saw him there earlier that night.\\n'},\n",
       "  {'name': 'Eutychius',\n",
       "   'age': 28,\n",
       "   'occupation': 'Junior scribe',\n",
       "   'motive': 'Eutychius harbored resentment towards Archibald due to his perceived favoritism towards more senior scribes like himself. Perhaps he sought revenge through this brutal act?',\n",
       "   'alibi': 'Eutychius asserts he spent the entire night transcribing an important text in the scriptorium. Multiple colleagues confirm his presence there until dawn.\\n'}],\n",
       " 'rooms': [{'name': 'The Forgotten Scrolls Chamber',\n",
       "   'description': 'In the heart of the Great Library of Alexandria, nestled between towering shelves of dusty tomes, lies the long-forgotten Scrolls Chamber. This dimly lit sanctum is home to some of the rarest and most fragile texts of antiquity, their delicate pages yellowed with age and protected by thick layers of glass. Amidst the silent rows of bookcases, Head Librarian Archibald Ptolemy met his untimely demise, his lifeless form half-buried beneath a chaotic pile of scrolls, a shattered quill pen protruding from his back like a macabre bookmark. The air reeks of old parchment and the faint scent of madness lingers, hinting at the dark secrets locked within the walls of this venerable institution.',\n",
       "   'row': 3,\n",
       "   'col': 3},\n",
       "  {'name': 'The Scrollery',\n",
       "   'description': \"Inside 'The Scrollery', rows upon rows of dusty tomes line the shelves, each one more worn than the last. Cassandra scowls at the books, her eyes darting back and forth between them as if searching for something specific. Her hands move quickly over the pages, her fingers tracing the spines of the volumes as if memorizing their order. A small table sits nearby, piled high with various quills, inkwells, and rolled parchments. The air here smells of old paper and stale air; it seems untouched by time itself. According to eyewitness accounts, Cassandra was seen frequenting this area of the library around the time of Drusilla's murder, possibly seeking out a particular text or conducting research for an upcoming project.\",\n",
       "   'row': 3,\n",
       "   'col': 2},\n",
       "  {'name': 'The Ancient Scroll Vault',\n",
       "   'description': \"Deep within the bowels of the Library of Alexandria lies 'The Ancient Scroll Vault', a cavernous chamber filled with countless scrolls dating back to antiquity. Dim light filters through narrow slits in the stone walls, casting eerie shadows upon the rows of dusty parchments. Eutychius, a retired papyrus restorer, spends most of his days hunched over one of these long tables, painstakingly repairing the delicate artifacts. His workspace is cluttered with worn tools of the trade, and the air reeks of old paper and stale dust. According to eyewitnesses, Eutychius was last seen entering this vault just before the brutal murder of Drusilla, leaving behind a trail of suspicion and motive.\",\n",
       "   'row': 4,\n",
       "   'col': 2},\n",
       "  {'name': 'The Scrollery',\n",
       "   'description': \"Inside 'The Scrollery', rows upon rows of precious papyrus scrolls line the walls, each one carefully labeled and protected within ornate wooden cases. Soft candlelight flickers across the surfaces, casting shadows upon the intricate calligraphy etched into the pages. Eutychius sits hunched over at a small desk near the back of the room, his quill pen scratching away at a fresh sheet of vellum as he works tirelessly to copy down the contents of an old text. His eyes dart up occasionally to glance at the clock ticking away the minutes on the wall above him, but otherwise remain fixed intently on his work.\",\n",
       "   'row': 5,\n",
       "   'col': 2}],\n",
       " 'suspects_positions': [(3, 2), (4, 2), (5, 2)]}"
      ]
     },
     "execution_count": 3,
     "metadata": {},
     "output_type": "execute_result"
    }
   ],
   "source": [
    "from llm.llm_story_generator import LlmStoryGenerator\n",
    "\n",
    "story = LlmStoryGenerator(rooms_layout).create_new_story(number_of_suspects=number_of_rooms, theme=theme, dummy=False)\n",
    "story"
   ]
  }
 ],
 "metadata": {
  "kernelspec": {
   "display_name": "Python [conda env:venv]",
   "language": "python",
   "name": "conda-env-venv-py"
  },
  "language_info": {
   "codemirror_mode": {
    "name": "ipython",
    "version": 3
   },
   "file_extension": ".py",
   "mimetype": "text/x-python",
   "name": "python",
   "nbconvert_exporter": "python",
   "pygments_lexer": "ipython3",
   "version": "3.10.6"
  },
  "orig_nbformat": 4
 },
 "nbformat": 4,
 "nbformat_minor": 2
}
