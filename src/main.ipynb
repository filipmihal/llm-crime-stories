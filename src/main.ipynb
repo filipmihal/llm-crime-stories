{
 "cells": [
  {
   "cell_type": "code",
   "execution_count": 8,
   "metadata": {},
   "outputs": [
    {
     "data": {
      "text/plain": [
       "True"
      ]
     },
     "execution_count": 8,
     "metadata": {},
     "output_type": "execute_result"
    }
   ],
   "source": [
    "from dotenv import load_dotenv\n",
    "from environment.game import Game\n",
    "from environment.generators.random_grid_generator import RandomGridGenerator\n",
    "from environment.grid_visualizer import GridVisualizer\n",
    "from environment.types import Direction\n",
    "\n",
    "load_dotenv(dotenv_path=\"./llm-dungeon-adventures/.env\")"
   ]
  },
  {
   "cell_type": "code",
   "execution_count": 11,
   "metadata": {},
   "outputs": [],
   "source": [
    "DUNGEON_SIZE, generator_seed = 50, 100\n",
    "\n",
    "generator = RandomGridGenerator(DUNGEON_SIZE, generator_seed)\n",
    "atmosphere = ['magic', 'sunny']"
   ]
  },
  {
   "cell_type": "code",
   "execution_count": 15,
   "metadata": {},
   "outputs": [
    {
     "ename": "TypeError",
     "evalue": "Game.__init__() takes 2 positional arguments but 3 were given",
     "output_type": "error",
     "traceback": [
      "\u001b[0;31m---------------------------------------------------------------------------\u001b[0m",
      "\u001b[0;31mTypeError\u001b[0m                                 Traceback (most recent call last)",
      "\u001b[1;32m/home/drobec/Documents/llm-dungeon-adventures/src/main.ipynb Cell 3\u001b[0m line \u001b[0;36m1\n\u001b[0;32m----> <a href='vscode-notebook-cell:/home/drobec/Documents/llm-dungeon-adventures/src/main.ipynb#X11sZmlsZQ%3D%3D?line=0'>1</a>\u001b[0m game \u001b[39m=\u001b[39m Game(generator, atmosphere)\n\u001b[1;32m      <a href='vscode-notebook-cell:/home/drobec/Documents/llm-dungeon-adventures/src/main.ipynb#X11sZmlsZQ%3D%3D?line=1'>2</a>\u001b[0m text \u001b[39m=\u001b[39m \u001b[39m\"\u001b[39m\u001b[39mgo north\u001b[39m\u001b[39m\\n\u001b[39;00m\u001b[39mgo east\u001b[39m\u001b[39m\\n\u001b[39;00m\u001b[39mgo east\u001b[39m\u001b[39m\"\u001b[39m\n\u001b[1;32m      <a href='vscode-notebook-cell:/home/drobec/Documents/llm-dungeon-adventures/src/main.ipynb#X11sZmlsZQ%3D%3D?line=2'>3</a>\u001b[0m game\u001b[39m.\u001b[39mplay(text)\n",
      "\u001b[0;31mTypeError\u001b[0m: Game.__init__() takes 2 positional arguments but 3 were given"
     ]
    }
   ],
   "source": [
    "game = Game(generator, atmosphere)\n",
    "text = \"go north\\ngo east\\ngo east\"\n",
    "game.play(text)\n"
   ]
  },
  {
   "cell_type": "code",
   "execution_count": null,
   "metadata": {},
   "outputs": [],
   "source": []
  }
 ],
 "metadata": {
  "kernelspec": {
   "display_name": "Python 3 (ipykernel)",
   "language": "python",
   "name": "python3"
  },
  "language_info": {
   "codemirror_mode": {
    "name": "ipython",
    "version": 3
   },
   "file_extension": ".py",
   "mimetype": "text/x-python",
   "name": "python",
   "nbconvert_exporter": "python",
   "pygments_lexer": "ipython3",
   "version": "3.10.8"
  },
  "orig_nbformat": 4
 },
 "nbformat": 4,
 "nbformat_minor": 2
}
