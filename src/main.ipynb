{
 "cells": [
  {
   "cell_type": "code",
   "execution_count": 1,
   "metadata": {},
   "outputs": [
    {
     "name": "stderr",
     "output_type": "stream",
     "text": [
      "/home/jovyan/my-conda-envs/venv/lib/python3.10/site-packages/tqdm/auto.py:21: TqdmWarning: IProgress not found. Please update jupyter and ipywidgets. See https://ipywidgets.readthedocs.io/en/stable/user_install.html\n",
      "  from .autonotebook import tqdm as notebook_tqdm\n"
     ]
    }
   ],
   "source": [
    "from dotenv import load_dotenv\n",
    "import warnings\n",
    "\n",
    "from environment.game import Game\n",
    "from environment.game_state import GameState\n",
    "from environment.generators.random_generator import RandomCrimeSceneMapGenerator\n",
    "from llm.llama import Llama\n",
    "from llm.story_generator import StoryGenerator\n",
    "\n",
    "load_dotenv(dotenv_path=\"./llm-dungeon-adventures/.env\")\n",
    "warnings.filterwarnings(\"ignore\", category=FutureWarning)"
   ]
  },
  {
   "cell_type": "markdown",
   "metadata": {},
   "source": [
    "1. Create a room layout and a theme"
   ]
  },
  {
   "cell_type": "code",
   "execution_count": 2,
   "metadata": {},
   "outputs": [],
   "source": [
    "number_of_rooms = 5\n",
    "theme = \"Smallville, Clark Kent, 2010\"\n",
    "\n",
    "themes = [\n",
    "    ['Prohibition Era', 'Speakeasy', 'Bootlegger'],\n",
    "    ['Victorian London', 'Jack the Ripper', 'Scotland Yard'],\n",
    "    ['1920s Chicago', 'Al Capone', 'Organized Crime'],\n",
    "    ['Ancient Rome', 'Emperor Nero', 'Assassination Plot'],\n",
    "    ['Futuristic Megacity', 'Cybernetic Hacker', 'Corporate Espionage'],\n",
    "    ['Medieval Castle', 'Royal Poisoning', 'Intrigue'],\n",
    "    ['Wild West', 'Outlaw Gang', 'Bank Heist'],\n",
    "    ['Small Coastal Town', 'Missing Fisherman', 'Mysterious Disappearances'],\n",
    "    ['Art World Heist', 'Stolen Masterpiece', 'Undercover Detective'],\n",
    "    ['1940s Hollywood', 'Film Noir Detective', 'Murder Mystery'],\n",
    "]\n",
    "\n",
    "crime_scene_map = RandomCrimeSceneMapGenerator().generate(number_of_rooms, 42)"
   ]
  },
  {
   "cell_type": "markdown",
   "metadata": {},
   "source": [
    "2. Init Llama2"
   ]
  },
  {
   "cell_type": "code",
   "execution_count": 3,
   "metadata": {},
   "outputs": [
    {
     "name": "stderr",
     "output_type": "stream",
     "text": [
      "Loading checkpoint shards: 100%|██████████| 3/3 [00:36<00:00, 12.13s/it]\n"
     ]
    },
    {
     "name": "stdout",
     "output_type": "stream",
     "text": [
      "Model loaded on cuda:0\n"
     ]
    }
   ],
   "source": [
    "from langchain.llms import HuggingFacePipeline\n",
    "\n",
    "llm = Llama()\n",
    "llm_pipeline = HuggingFacePipeline(pipeline=llm.pipeline)"
   ]
  },
  {
   "cell_type": "markdown",
   "metadata": {},
   "source": [
    "3. Create a story"
   ]
  },
  {
   "cell_type": "code",
   "execution_count": 4,
   "metadata": {},
   "outputs": [],
   "source": [
    "story = StoryGenerator(crime_scene_map, llm_pipeline).create_new_story(theme=theme, dummy=False)"
   ]
  },
  {
   "cell_type": "markdown",
   "metadata": {},
   "source": [
    "4. Create an initial game state"
   ]
  },
  {
   "cell_type": "code",
   "execution_count": null,
   "metadata": {},
   "outputs": [],
   "source": [
    "initial_game_state = GameState(crime_scene_map, story)"
   ]
  },
  {
   "cell_type": "markdown",
   "metadata": {},
   "source": [
    "5. Create a game"
   ]
  },
  {
   "cell_type": "code",
   "execution_count": null,
   "metadata": {},
   "outputs": [],
   "source": [
    "game = Game(initial_game_state)"
   ]
  }
 ],
 "metadata": {
  "kernelspec": {
   "display_name": "Python [conda env:venv]",
   "language": "python",
   "name": "conda-env-venv-py"
  },
  "language_info": {
   "codemirror_mode": {
    "name": "ipython",
    "version": 3
   },
   "file_extension": ".py",
   "mimetype": "text/x-python",
   "name": "python",
   "nbconvert_exporter": "python",
   "pygments_lexer": "ipython3",
   "version": "3.10.6"
  },
  "orig_nbformat": 4
 },
 "nbformat": 4,
 "nbformat_minor": 2
}
