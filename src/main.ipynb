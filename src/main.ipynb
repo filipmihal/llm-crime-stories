{
 "cells": [
  {
   "cell_type": "code",
   "execution_count": 9,
   "metadata": {},
   "outputs": [
    {
     "ename": "ModuleNotFoundError",
     "evalue": "No module named 'environment.generators.random_generator'",
     "output_type": "error",
     "traceback": [
      "\u001b[0;31m---------------------------------------------------------------------------\u001b[0m",
      "\u001b[0;31mModuleNotFoundError\u001b[0m                       Traceback (most recent call last)",
      "\u001b[1;32m/home/drobec/Documents/llm-dungeon-adventures/src/main.ipynb Cell 1\u001b[0m line \u001b[0;36m6\n\u001b[1;32m      <a href='vscode-notebook-cell:/home/drobec/Documents/llm-dungeon-adventures/src/main.ipynb#X16sZmlsZQ%3D%3D?line=3'>4</a>\u001b[0m \u001b[39mfrom\u001b[39;00m \u001b[39menvironment\u001b[39;00m\u001b[39m.\u001b[39;00m\u001b[39mgame\u001b[39;00m \u001b[39mimport\u001b[39;00m Game\n\u001b[1;32m      <a href='vscode-notebook-cell:/home/drobec/Documents/llm-dungeon-adventures/src/main.ipynb#X16sZmlsZQ%3D%3D?line=4'>5</a>\u001b[0m \u001b[39mfrom\u001b[39;00m \u001b[39menvironment\u001b[39;00m\u001b[39m.\u001b[39;00m\u001b[39mgame_state\u001b[39;00m \u001b[39mimport\u001b[39;00m GameState\n\u001b[0;32m----> <a href='vscode-notebook-cell:/home/drobec/Documents/llm-dungeon-adventures/src/main.ipynb#X16sZmlsZQ%3D%3D?line=5'>6</a>\u001b[0m \u001b[39mfrom\u001b[39;00m \u001b[39menvironment\u001b[39;00m\u001b[39m.\u001b[39;00m\u001b[39mgenerators\u001b[39;00m\u001b[39m.\u001b[39;00m\u001b[39mrandom_generator\u001b[39;00m \u001b[39mimport\u001b[39;00m RandomCrimeSceneMapGenerator\n\u001b[1;32m      <a href='vscode-notebook-cell:/home/drobec/Documents/llm-dungeon-adventures/src/main.ipynb#X16sZmlsZQ%3D%3D?line=6'>7</a>\u001b[0m \u001b[39mfrom\u001b[39;00m \u001b[39mllm\u001b[39;00m\u001b[39m.\u001b[39;00m\u001b[39mllama\u001b[39;00m \u001b[39mimport\u001b[39;00m Llama\n\u001b[1;32m      <a href='vscode-notebook-cell:/home/drobec/Documents/llm-dungeon-adventures/src/main.ipynb#X16sZmlsZQ%3D%3D?line=7'>8</a>\u001b[0m \u001b[39mfrom\u001b[39;00m \u001b[39mllm\u001b[39;00m\u001b[39m.\u001b[39;00m\u001b[39mllm_story_generator\u001b[39;00m \u001b[39mimport\u001b[39;00m LlmStoryGenerator\n",
      "\u001b[0;31mModuleNotFoundError\u001b[0m: No module named 'environment.generators.random_generator'"
     ]
    }
   ],
   "source": [
    "from dotenv import load_dotenv\n",
    "import warnings\n",
    "\n",
    "from environment.game import Game\n",
    "from environment.game_state import GameState\n",
    "from environment.generators.random_generator import RandomCrimeSceneMapGenerator\n",
    "from llm.llama import Llama\n",
    "from llm.llm_story_generator import LlmStoryGenerator\n",
    "\n",
    "load_dotenv(dotenv_path=\"./llm-dungeon-adventures/.env\")\n",
    "warnings.filterwarnings(\"ignore\", category=FutureWarning)"
   ]
  },
  {
   "cell_type": "markdown",
   "metadata": {},
   "source": [
    "1. Create a room layout and a theme"
   ]
  },
  {
   "cell_type": "code",
   "execution_count": 8,
   "metadata": {},
   "outputs": [],
   "source": [
    "number_of_rooms = 3\n",
    "theme = \"Library of Alexandria, 340 BC, crazy librarian\"\n",
    "\n",
    "crime_scene_map = RandomGridGenerator(seed=42).generate(number_of_rooms)"
   ]
  },
  {
   "cell_type": "markdown",
   "metadata": {},
   "source": [
    "2. Init Llama2"
   ]
  },
  {
   "cell_type": "code",
   "execution_count": 3,
   "metadata": {},
   "outputs": [
    {
     "name": "stderr",
     "output_type": "stream",
     "text": [
      "Loading checkpoint shards: 100%|██████████| 3/3 [00:31<00:00, 10.61s/it]\n"
     ]
    },
    {
     "name": "stdout",
     "output_type": "stream",
     "text": [
      "Model loaded on cuda:0\n"
     ]
    }
   ],
   "source": [
    "llm = Llama()"
   ]
  },
  {
   "cell_type": "markdown",
   "metadata": {},
   "source": [
    "3. Create a story"
   ]
  },
  {
   "cell_type": "code",
   "execution_count": 4,
   "metadata": {},
   "outputs": [
    {
     "data": {
      "text/plain": [
       "{'theme': 'Library of Alexandria, 340 BC, crazy librarian',\n",
       " 'killer': {'name': 'Gaius',\n",
       "  'age': 40,\n",
       "  'occupation': 'Crazy Librarian',\n",
       "  'motive': \"Gaius became increasingly obsessed with ancient and forbidden knowledge. He believed that by eliminating anyone who questioned him, he could protect the library's secrets.\\n\",\n",
       "  'alibi': 'Gaius claims he was in his secret chamber, delving into forbidden texts. No one can vouch for his whereabouts.\\n'},\n",
       " 'victim': {'name': 'Archibald Ptolemy',\n",
       "  'age': 47,\n",
       "  'occupation': 'Head Librarian',\n",
       "  'murder_weapon': 'Ancient scroll with poisoned ink',\n",
       "  'death_description': 'Found dead in his office surrounded by stacks of books, face contorted in a mixture of shock and horror as if he had been reading one too many forbidden tomes.'},\n",
       " 'suspects': [{'name': 'Eutropia',\n",
       "   'age': 28,\n",
       "   'occupation': 'Junior Librarian',\n",
       "   'motive': 'Eutropia harbored resentment towards Archibald due to his frequent criticism of her cataloging methods and habitual interruptions while she read. She may have sought revenge through means familiar to her profession.',\n",
       "   'alibi': 'Eutropia insists she was searching for rare manuscripts in the stacks during the time of the murder. Multiple patrons corroborate her claim, stating they found her near the shelves around the time of the homicide.\\n'},\n",
       "  {'name': 'Eutropia',\n",
       "   'age': 28,\n",
       "   'occupation': 'Junior Librarian',\n",
       "   'motive': 'Eutropia had a contentious relationship with Archibald due to their differing opinions regarding censorship policies within the library. She may have felt strongly enough about this issue to exact revenge upon his death.',\n",
       "   'alibi': \"Eutropia swears she was searching for rare manuscripts in the library's basement during the time of the murder. Multiple colleagues confirm her presence downstairs around midnight.\\n\"}],\n",
       " 'rooms': [{'name': 'The Forbidden Knowledge Vault',\n",
       "   'description': 'Deep within the labyrinthine corridors of the Library of Alexandria, nestled between towering shelves of ancient texts, lies the Forbidden Knowledge Vault. This secretive chamber is reserved for the most arcane and controversial volumes, guarded zealously by Head Librarian Archibald Ptolemy. The room itself exudes an aura of reverence and fear; the air thickens with the weight of suppressed secrets and whispered myths. Flickering candles cast sinister shadows upon the walls, illuminating the intricate carvings depicting cosmic entities and eldritch beings. A faint scent of incense wafts through the air, mingling with the musky odor of aged leather bindings. Amidst these sacred precincts, Archibald Ptolemy met his grisly demise, slumped over his desk, surrounded by piles of cryptic texts and strange artifacts, his eyes frozen in a mixture of terror and amazement.',\n",
       "   'row': 3,\n",
       "   'col': 3},\n",
       "  {'name': 'The Echoing Halls of Knowledge',\n",
       "   'description': 'Inside the grandiose Library of Alexandria, the Echoing Halls of Knowledge serve as a labyrinthine maze of learning, housing an extensive collection of tomes penned by renowned authors and philosophers. Soft candlelight flickers upon the walls, casting shadows across the intricate mosaics depicting scenes from mythology. The air is heavy with the scent of parchment, ink, and the whispered secrets of the past. Junior Librarian Eutropia, a fierce protector of the written word, can often be found within these hallowed halls, ensuring the order and integrity of the vast repository. Her sharp intellect and quick wit make her a formidable adversary, but her deep passion for literature sometimes clouds her judgment.',\n",
       "   'row': 3,\n",
       "   'col': 2},\n",
       "  {'name': 'The Scrollery',\n",
       "   'description': \"Inside 'The Scrollery', rows of towering bookshelves stretch towards the vaulted ceiling, each one packed tightly with ancient tomes bound in supple leather or adorned with intricate gold filigree. Soft candlelight flickers across the pages, casting shadows on the walls as Eutropia searches for a specific text amidst the labyrinthine collection. Her sharp eyes dart between the spines, lingering on titles written in forgotten languages. A faint scent of old books and parchment fills the air, mingling with the subtle fragrance of her perfume. Despite the late hour, the room remains quiet save for the rustling of pages and the soft murmur of Eutropia's voice as she mutters to herself, completely absorbed in her work.\",\n",
       "   'row': 4,\n",
       "   'col': 2}],\n",
       " 'suspects_positions': [{'row': 3, 'col': 2}, {'row': 4, 'col': 2}]}"
      ]
     },
     "execution_count": 4,
     "metadata": {},
     "output_type": "execute_result"
    }
   ],
   "source": [
    "story = LlmStoryGenerator(rooms_layout, llm).create_new_story(number_of_suspects=number_of_rooms - 1, theme=theme, dummy=False)\n",
    "\n",
    "story"
   ]
  },
  {
   "cell_type": "markdown",
   "metadata": {},
   "source": [
    "4. Create an initial game state, then create the game"
   ]
  },
  {
   "cell_type": "code",
   "execution_count": 5,
   "metadata": {},
   "outputs": [
    {
     "ename": "NameError",
     "evalue": "name 'generator' is not defined",
     "output_type": "error",
     "traceback": [
      "\u001b[0;31m---------------------------------------------------------------------------\u001b[0m",
      "\u001b[0;31mNameError\u001b[0m                                 Traceback (most recent call last)",
      "\u001b[1;32m/home/drobec/Documents/llm-dungeon-adventures/src/main.ipynb Cell 9\u001b[0m line \u001b[0;36m1\n\u001b[0;32m----> <a href='vscode-notebook-cell:/home/drobec/Documents/llm-dungeon-adventures/src/main.ipynb#X26sZmlsZQ%3D%3D?line=0'>1</a>\u001b[0m game \u001b[39m=\u001b[39m Game(generator)\n",
      "\u001b[0;31mNameError\u001b[0m: name 'generator' is not defined"
     ]
    }
   ],
   "source": [
    "initial_game_state = GameState(crime_scene_map, story)\n",
    "game = Game(initial_game_state)"
   ]
  },
  {
   "cell_type": "code",
   "execution_count": null,
   "metadata": {},
   "outputs": [],
   "source": []
  }
 ],
 "metadata": {
  "kernelspec": {
   "display_name": "Python [conda env:venv]",
   "language": "python",
   "name": "conda-env-venv-py"
  },
  "language_info": {
   "codemirror_mode": {
    "name": "ipython",
    "version": 3
   },
   "file_extension": ".py",
   "mimetype": "text/x-python",
   "name": "python",
   "nbconvert_exporter": "python",
   "pygments_lexer": "ipython3",
   "version": "3.10.6"
  },
  "orig_nbformat": 4
 },
 "nbformat": 4,
 "nbformat_minor": 2
}
