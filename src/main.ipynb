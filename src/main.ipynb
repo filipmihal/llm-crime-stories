{
 "cells": [
  {
   "cell_type": "code",
   "execution_count": 4,
   "metadata": {},
   "outputs": [],
   "source": [
    "from dotenv import load_dotenv\n",
    "import warnings\n",
    "\n",
    "from environment.game import Game\n",
    "from environment.game_state import GameState\n",
    "from environment.generators.random_generator import RandomCrimeSceneMapGenerator\n",
    "from llm.llama import Llama\n",
    "from llm.story_generator import StoryGenerator\n",
    "\n",
    "load_dotenv(dotenv_path=\"./llm-dungeon-adventures/.env\")\n",
    "warnings.filterwarnings(\"ignore\", category=FutureWarning)"
   ]
  },
  {
   "cell_type": "markdown",
   "metadata": {},
   "source": [
    "1. Create a room layout and a theme"
   ]
  },
  {
   "cell_type": "code",
   "execution_count": 5,
   "metadata": {},
   "outputs": [],
   "source": [
    "number_of_rooms = 3\n",
    "theme = \"Smallville, Clark Kent, 2010\"\n",
    "\n",
    "crime_scene_map = RandomCrimeSceneMapGenerator().generate(number_of_rooms, 42)"
   ]
  },
  {
   "cell_type": "markdown",
   "metadata": {},
   "source": [
    "2. Init Llama2"
   ]
  },
  {
   "cell_type": "code",
   "execution_count": null,
   "metadata": {},
   "outputs": [],
   "source": [
    "from langchain.llms import HuggingFacePipeline\n",
    "\n",
    "llm = Llama()\n",
    "llm_pipeline = HuggingFacePipeline(pipeline=llm.pipeline)"
   ]
  },
  {
   "cell_type": "code",
   "execution_count": null,
   "metadata": {},
   "outputs": [],
   "source": [
    "import json\n",
    "import re\n",
    "from time import time\n",
    "\n",
    "from llm.chains.killer_chain import KillerChain\n",
    "from llm.chains.victim_chain import VictimChain\n",
    "\n",
    "themes = [\n",
    "    ['Prohibition Era', 'Speakeasy', 'Bootlegger'],\n",
    "    ['Victorian London', 'Jack the Ripper', 'Scotland Yard'],\n",
    "    ['1920s Chicago', 'Al Capone', 'Organized Crime'],\n",
    "    ['Ancient Rome', 'Emperor Nero', 'Assassination Plot'],\n",
    "    ['Futuristic Megacity', 'Cybernetic Hacker', 'Corporate Espionage'],\n",
    "    ['Medieval Castle', 'Royal Poisoning', 'Intrigue'],\n",
    "    ['Wild West', 'Outlaw Gang', 'Bank Heist'],\n",
    "    ['Small Coastal Town', 'Missing Fisherman', 'Mysterious Disappearances'],\n",
    "    ['Art World Heist', 'Stolen Masterpiece', 'Undercover Detective'],\n",
    "    ['1940s Hollywood', 'Film Noir Detective', 'Murder Mystery'],\n",
    "]\n",
    "\n",
    "killer_chain, victim_chain = KillerChain(llm_pipeline), VictimChain(llm_pipeline)\n",
    "\n",
    "results = []\n",
    "for theme in themes:\n",
    "    start_time = time()\n",
    "    victim = victim_chain.create(theme)\n",
    "    killer = killer_chain.create(theme, victim)\n",
    "    end_time = time()\n",
    "    \n",
    "    results.append({\n",
    "        \"elapsed_time\": end_time - start_time,\n",
    "        \"theme\": theme,\n",
    "        \"victim\": victim,\n",
    "        \"killer\": killer\n",
    "    })"
   ]
  },
  {
   "cell_type": "code",
   "execution_count": null,
   "metadata": {},
   "outputs": [],
   "source": [
    "results"
   ]
  },
  {
   "cell_type": "markdown",
   "metadata": {},
   "source": [
    "3. Create a story"
   ]
  },
  {
   "cell_type": "code",
   "execution_count": null,
   "metadata": {},
   "outputs": [],
   "source": [
    "story = StoryGenerator(crime_scene_map.rooms, llm).create_new_story(number_of_suspects=number_of_rooms - 1, theme=theme, dummy=False)\n",
    "\n",
    "story"
   ]
  },
  {
   "cell_type": "markdown",
   "metadata": {},
   "source": [
    "4. Create an initial game state"
   ]
  },
  {
   "cell_type": "code",
   "execution_count": null,
   "metadata": {},
   "outputs": [],
   "source": [
    "initial_game_state = GameState(crime_scene_map, story)"
   ]
  },
  {
   "cell_type": "markdown",
   "metadata": {},
   "source": [
    "5. Create a game"
   ]
  },
  {
   "cell_type": "code",
   "execution_count": null,
   "metadata": {},
   "outputs": [],
   "source": [
    "game = Game(initial_game_state)"
   ]
  }
 ],
 "metadata": {
  "kernelspec": {
   "display_name": "Python [conda env:venv]",
   "language": "python",
   "name": "conda-env-venv-py"
  },
  "language_info": {
   "codemirror_mode": {
    "name": "ipython",
    "version": 3
   },
   "file_extension": ".py",
   "mimetype": "text/x-python",
   "name": "python",
   "nbconvert_exporter": "python",
   "pygments_lexer": "ipython3",
   "version": "3.10.6"
  },
  "orig_nbformat": 4
 },
 "nbformat": 4,
 "nbformat_minor": 2
}
