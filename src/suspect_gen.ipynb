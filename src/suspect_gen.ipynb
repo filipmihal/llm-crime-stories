{
 "cells": [
  {
   "cell_type": "code",
   "execution_count": 29,
   "metadata": {},
   "outputs": [
    {
     "data": {
      "text/plain": [
       "True"
      ]
     },
     "execution_count": 29,
     "metadata": {},
     "output_type": "execute_result"
    }
   ],
   "source": [
    "from dotenv import load_dotenv\n",
    "import json\n",
    "from langchain.llms import HuggingFacePipeline\n",
    "from langchain.prompts import PromptTemplate\n",
    "from langchain.schema import BaseOutputParser\n",
    "import warnings\n",
    "warnings.filterwarnings('ignore')\n",
    "\n",
    "from llm.llama import Llama\n",
    "\n",
    "load_dotenv(dotenv_path=\"./llm-dungeon-adventures/.env\")"
   ]
  },
  {
   "cell_type": "code",
   "execution_count": 27,
   "metadata": {},
   "outputs": [],
   "source": [
    "class JsonOutputParser(BaseOutputParser):\n",
    "    \"\"\"Parse the output of an LLM call to a json object.\"\"\"\n",
    "\n",
    "    def parse(self, text: str):\n",
    "        \"\"\"Parse the output of an LLM call.\"\"\"\n",
    "        return json.loads(text)"
   ]
  },
  {
   "cell_type": "code",
   "execution_count": 28,
   "metadata": {},
   "outputs": [
    {
     "name": "stderr",
     "output_type": "stream",
     "text": [
      "Loading checkpoint shards: 100%|██████████| 2/2 [00:08<00:00,  4.30s/it]\n"
     ]
    },
    {
     "name": "stdout",
     "output_type": "stream",
     "text": [
      "Model loaded on cuda:0\n"
     ]
    }
   ],
   "source": [
    "llama_pipeline = Llama().pipeline\n",
    "\n",
    "llm = HuggingFacePipeline(pipeline=llama_pipeline)"
   ]
  },
  {
   "cell_type": "markdown",
   "metadata": {},
   "source": [
    "1. Ask player for a theme, select number of rooms (difficulty)"
   ]
  },
  {
   "cell_type": "code",
   "execution_count": 36,
   "metadata": {},
   "outputs": [],
   "source": [
    "theme = \"Library of Alexandria, 340 BC, Alexander the Great, morning\"\n",
    "number_of_rooms = 3"
   ]
  },
  {
   "cell_type": "markdown",
   "metadata": {},
   "source": [
    "2. Ask LLM to describe rooms of the crime scene"
   ]
  },
  {
   "cell_type": "code",
   "execution_count": 41,
   "metadata": {},
   "outputs": [],
   "source": [
    "prompt_template = \"\"\"<s>[INST] <<SYS>>\n",
    "{{ You are a veteran detective specializing in murder cases. No pre-amble. }}<<SYS>>\n",
    "\n",
    "{{{input}}}[/INST]\n",
    "\"\"\"\n",
    "\n",
    "prompt = PromptTemplate.from_template(prompt_template)\n",
    "\n",
    "chain = prompt | llm\n",
    "\n",
    "room_descriptions = [chain.invoke({ \"input\": f'Describe a room of a crime scene with this theme: {theme}' }) for _ in range(number_of_rooms)]"
   ]
  },
  {
   "cell_type": "code",
   "execution_count": 43,
   "metadata": {},
   "outputs": [
    {
     "data": {
      "text/plain": [
       "['The dimly lit chamber was adorned with ancient tomes and scrolls, their parchment yellowed from centuries of exposure to dust and decay. A faint scent of old books wafted through the air, mingling with the metallic tang of blood. The once grandiose library now lay in disarray, its shelves toppled over or broken apart, leaving scattered pages and crumpled parchment on the floor. Amidst the chaos, a lone figure slumped against a collapsed bookshelf, their face pale and still, surrounded by the remnants of a fierce battle long past.',\n",
       " 'The dimly lit chamber was filled with rows upon rows of ancient tomes, their leather bindings worn and cracked from centuries of use. A faint scent of parchment and dust hung heavy in the air, mingling with the sweet smell of incense drifting from an unseen censer. The sound of whispers seemed to echo off the stone walls as I stepped into the heart of the long-lost Library of Alexandria, its grandeur and history palpable even in death. As the sun crept over the horizon outside, casting golden rays through the high windows, it was clear that this moment had been waiting for me all these years.',\n",
       " 'The dimly lit chamber was adorned with ancient tomes and scrolls, their parchment yellowed from centuries of exposure to dust and time. The scent of old books filled the air, mingling with the faint tang of incense drifting from an unseen censer. A sense of quiet reverence permeated the space, as if the very walls held the secrets of knowledge and wisdom accumulated over millennia. In the center of the room, a single flickering candle cast eerie shadows upon the faces of the motionless figures scattered about, their eyes seemingly frozen in contemplation of the lost lore they once embodied.']"
      ]
     },
     "execution_count": 43,
     "metadata": {},
     "output_type": "execute_result"
    }
   ],
   "source": [
    "room_descriptions"
   ]
  },
  {
   "cell_type": "code",
   "execution_count": null,
   "metadata": {},
   "outputs": [],
   "source": []
  }
 ],
 "metadata": {
  "kernelspec": {
   "display_name": "Python [conda env:venv]",
   "language": "python",
   "name": "conda-env-venv-py"
  },
  "language_info": {
   "codemirror_mode": {
    "name": "ipython",
    "version": 3
   },
   "file_extension": ".py",
   "mimetype": "text/x-python",
   "name": "python",
   "nbconvert_exporter": "python",
   "pygments_lexer": "ipython3",
   "version": "3.10.6"
  },
  "orig_nbformat": 4
 },
 "nbformat": 4,
 "nbformat_minor": 2
}
